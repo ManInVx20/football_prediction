{
 "cells": [
  {
   "attachments": {},
   "cell_type": "markdown",
   "metadata": {},
   "source": [
    "### Exploratory Data Analysis"
   ]
  },
  {
   "attachments": {},
   "cell_type": "markdown",
   "metadata": {},
   "source": [
    "Import packages"
   ]
  },
  {
   "cell_type": "code",
   "execution_count": null,
   "metadata": {},
   "outputs": [],
   "source": [
    "import pandas as pd\n",
    "import numpy as np\n",
    "import matplotlib.pyplot as plt\n",
    "import seaborn as sns\n",
    "from scipy.stats import pearsonr\n",
    "from pandas.plotting import scatter_matrix"
   ]
  },
  {
   "attachments": {},
   "cell_type": "markdown",
   "metadata": {},
   "source": [
    "Load cleaned data"
   ]
  },
  {
   "cell_type": "code",
   "execution_count": null,
   "metadata": {},
   "outputs": [],
   "source": [
    "df_data = pd.read_csv(\"../dataset/cleaned_data.csv\")\n",
    "df_data.head()"
   ]
  },
  {
   "attachments": {},
   "cell_type": "markdown",
   "metadata": {},
   "source": [
    "Brief information about data"
   ]
  },
  {
   "cell_type": "code",
   "execution_count": null,
   "metadata": {},
   "outputs": [],
   "source": [
    "df_data.info()"
   ]
  },
  {
   "cell_type": "code",
   "execution_count": null,
   "metadata": {},
   "outputs": [],
   "source": [
    "df_data.describe()"
   ]
  },
  {
   "attachments": {},
   "cell_type": "markdown",
   "metadata": {},
   "source": [
    "When a football club play at home, the goals, shots, shots on goal or possession is always better than away match"
   ]
  },
  {
   "cell_type": "code",
   "execution_count": null,
   "metadata": {},
   "outputs": [],
   "source": [
    "cols = ['home_possession_pct', 'away_possession_pct', 'away_shot', 'away_shot_on_goal', 'home_shot', 'home_shot_on_goal', \n",
    "    'home_goal', 'away_goal', 'home_corner', 'away_corner', 'result']\n",
    "info = df_data[cols]\n",
    "sns.heatmap(info.corr(), annot=True)"
   ]
  },
  {
   "attachments": {},
   "cell_type": "markdown",
   "metadata": {},
   "source": [
    "We can drop home_corner and away_corner when we consider result"
   ]
  },
  {
   "cell_type": "code",
   "execution_count": null,
   "metadata": {},
   "outputs": [],
   "source": [
    "scatter_matrix(info, figsize=(20, 20), hist_kwds={'bins': 50})"
   ]
  },
  {
   "cell_type": "code",
   "execution_count": null,
   "metadata": {},
   "outputs": [],
   "source": [
    "df_data.hist(bins=50, figsize=(20, 15))"
   ]
  },
  {
   "attachments": {},
   "cell_type": "markdown",
   "metadata": {},
   "source": [
    "A team at home has more numbers of 3 points (win) than away"
   ]
  },
  {
   "attachments": {},
   "cell_type": "markdown",
   "metadata": {},
   "source": [
    "Top correlation with result"
   ]
  },
  {
   "cell_type": "code",
   "execution_count": null,
   "metadata": {},
   "outputs": [],
   "source": [
    "df_data.corr(numeric_only=True)['result'].sort_values(ascending=False)"
   ]
  },
  {
   "cell_type": "code",
   "execution_count": null,
   "metadata": {},
   "outputs": [],
   "source": [
    "df_data.head()"
   ]
  },
  {
   "attachments": {},
   "cell_type": "markdown",
   "metadata": {},
   "source": [
    "Make mean of 10 match later (home team from home matches and away team from away matches)"
   ]
  },
  {
   "cell_type": "code",
   "execution_count": null,
   "metadata": {},
   "outputs": [],
   "source": [
    "types = ['home', 'away']\n",
    "df_mean = df_data.copy()\n",
    "\n",
    "for type in types:\n",
    "    gk = df_data.groupby(type)\n",
    "    for team in df_mean[type].unique():\n",
    "        temp = gk.get_group(team).sort_values('date', ascending=True)\n",
    "        df_mean.loc[temp.index, [f'mean_10_{type}_goal']] = temp.rolling(10, min_periods=0)[f'{type}_goal'].mean()\n",
    "        df_mean.loc[temp.index, [f'mean_10_{type}_possession_pct']] = temp.rolling(10, min_periods=0)[f'{type}_possession_pct'].mean()\n",
    "        df_mean.loc[temp.index, [f'mean_10_{type}_shot_on_goal']] = temp.rolling(10, min_periods=0)[f'{type}_shot_on_goal'].mean()\n",
    "        df_mean.loc[temp.index, [f'mean_10_{type}_shot']] = temp.rolling(10, min_periods=0)[f'{type}_shot'].mean()\n",
    "        df_mean.loc[temp.index, [f'mean_10_{type}_corner']] = temp.rolling(10, min_periods=0)[f'{type}_corner'].mean()\n",
    "\n",
    "df_mean.head()"
   ]
  },
  {
   "attachments": {},
   "cell_type": "markdown",
   "metadata": {},
   "source": [
    "Drop unnecessary columns"
   ]
  },
  {
   "cell_type": "code",
   "execution_count": null,
   "metadata": {},
   "outputs": [],
   "source": [
    "cols = ['date', 'home', 'away', 'home_possession_pct', 'away_possession_pct', 'away_shot', 'away_shot_on_goal', 'home_shot', 'home_shot_on_goal', \n",
    "    'home_goal', 'away_goal', 'home_corner', 'away_corner']\n",
    "df_mean.drop(cols, axis=1, inplace=True)\n",
    "df_mean.head()"
   ]
  },
  {
   "cell_type": "code",
   "execution_count": null,
   "metadata": {},
   "outputs": [],
   "source": [
    "df_mean.info()"
   ]
  },
  {
   "attachments": {},
   "cell_type": "markdown",
   "metadata": {},
   "source": [
    "Top correlation with result"
   ]
  },
  {
   "cell_type": "code",
   "execution_count": null,
   "metadata": {},
   "outputs": [],
   "source": [
    "df_mean.corr(numeric_only=True)['result'].sort_values(ascending=False)"
   ]
  },
  {
   "attachments": {},
   "cell_type": "markdown",
   "metadata": {},
   "source": [
    "Save analyzed data to csv file"
   ]
  },
  {
   "cell_type": "code",
   "execution_count": null,
   "metadata": {},
   "outputs": [],
   "source": [
    "df_mean.to_csv(\"../dataset/analyzed_data.csv\", index=False)"
   ]
  }
 ],
 "metadata": {
  "kernelspec": {
   "display_name": "venv",
   "language": "python",
   "name": "python3"
  },
  "language_info": {
   "codemirror_mode": {
    "name": "ipython",
    "version": 3
   },
   "file_extension": ".py",
   "mimetype": "text/x-python",
   "name": "python",
   "nbconvert_exporter": "python",
   "pygments_lexer": "ipython3",
   "version": "3.10.6 (main, Nov 14 2022, 16:10:14) [GCC 11.3.0]"
  },
  "orig_nbformat": 4,
  "vscode": {
   "interpreter": {
    "hash": "2ebe7aa5e534c436cc2dbf0909e797b08403c5c19601fcdcbe67a2c5d9abb1eb"
   }
  }
 },
 "nbformat": 4,
 "nbformat_minor": 2
}
