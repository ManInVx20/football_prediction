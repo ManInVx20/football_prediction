{
 "cells": [
  {
   "attachments": {},
   "cell_type": "markdown",
   "metadata": {},
   "source": [
    "### Machine Learing by using model Logistic Regression"
   ]
  },
  {
   "attachments": {},
   "cell_type": "markdown",
   "metadata": {},
   "source": [
    "Import packages"
   ]
  },
  {
   "cell_type": "code",
   "execution_count": 23,
   "metadata": {},
   "outputs": [],
   "source": [
    "import pandas as pd\n",
    "from sklearn.linear_model import LogisticRegression\n",
    "from sklearn.model_selection import train_test_split\n",
    "from sklearn.metrics import classification_report"
   ]
  },
  {
   "attachments": {},
   "cell_type": "markdown",
   "metadata": {},
   "source": [
    "Load analyzed data"
   ]
  },
  {
   "cell_type": "code",
   "execution_count": 24,
   "metadata": {},
   "outputs": [
    {
     "data": {
      "text/html": [
       "<div>\n",
       "<style scoped>\n",
       "    .dataframe tbody tr th:only-of-type {\n",
       "        vertical-align: middle;\n",
       "    }\n",
       "\n",
       "    .dataframe tbody tr th {\n",
       "        vertical-align: top;\n",
       "    }\n",
       "\n",
       "    .dataframe thead th {\n",
       "        text-align: right;\n",
       "    }\n",
       "</style>\n",
       "<table border=\"1\" class=\"dataframe\">\n",
       "  <thead>\n",
       "    <tr style=\"text-align: right;\">\n",
       "      <th></th>\n",
       "      <th>result</th>\n",
       "      <th>mean_10_home_goal</th>\n",
       "      <th>mean_10_home_possession_pct</th>\n",
       "      <th>mean_10_home_shot_on_goal</th>\n",
       "      <th>mean_10_home_shot</th>\n",
       "      <th>mean_10_home_corner</th>\n",
       "      <th>mean_10_away_goal</th>\n",
       "      <th>mean_10_away_possession_pct</th>\n",
       "      <th>mean_10_away_shot_on_goal</th>\n",
       "      <th>mean_10_away_shot</th>\n",
       "      <th>mean_10_away_corner</th>\n",
       "    </tr>\n",
       "  </thead>\n",
       "  <tbody>\n",
       "    <tr>\n",
       "      <th>0</th>\n",
       "      <td>0</td>\n",
       "      <td>1.0</td>\n",
       "      <td>0.50</td>\n",
       "      <td>5.0</td>\n",
       "      <td>17.0</td>\n",
       "      <td>4.0</td>\n",
       "      <td>2.0</td>\n",
       "      <td>0.50</td>\n",
       "      <td>6.0</td>\n",
       "      <td>13.0</td>\n",
       "      <td>6.0</td>\n",
       "    </tr>\n",
       "    <tr>\n",
       "      <th>1</th>\n",
       "      <td>3</td>\n",
       "      <td>3.0</td>\n",
       "      <td>0.66</td>\n",
       "      <td>10.0</td>\n",
       "      <td>29.0</td>\n",
       "      <td>9.0</td>\n",
       "      <td>0.0</td>\n",
       "      <td>0.34</td>\n",
       "      <td>2.0</td>\n",
       "      <td>8.0</td>\n",
       "      <td>5.0</td>\n",
       "    </tr>\n",
       "    <tr>\n",
       "      <th>2</th>\n",
       "      <td>0</td>\n",
       "      <td>0.0</td>\n",
       "      <td>0.64</td>\n",
       "      <td>2.0</td>\n",
       "      <td>26.0</td>\n",
       "      <td>14.0</td>\n",
       "      <td>1.0</td>\n",
       "      <td>0.36</td>\n",
       "      <td>3.0</td>\n",
       "      <td>7.0</td>\n",
       "      <td>2.0</td>\n",
       "    </tr>\n",
       "    <tr>\n",
       "      <th>3</th>\n",
       "      <td>1</td>\n",
       "      <td>1.0</td>\n",
       "      <td>0.44</td>\n",
       "      <td>5.0</td>\n",
       "      <td>9.0</td>\n",
       "      <td>3.0</td>\n",
       "      <td>1.0</td>\n",
       "      <td>0.56</td>\n",
       "      <td>1.0</td>\n",
       "      <td>6.0</td>\n",
       "      <td>3.0</td>\n",
       "    </tr>\n",
       "    <tr>\n",
       "      <th>4</th>\n",
       "      <td>3</td>\n",
       "      <td>3.0</td>\n",
       "      <td>0.48</td>\n",
       "      <td>7.0</td>\n",
       "      <td>18.0</td>\n",
       "      <td>4.0</td>\n",
       "      <td>0.0</td>\n",
       "      <td>0.52</td>\n",
       "      <td>3.0</td>\n",
       "      <td>11.0</td>\n",
       "      <td>5.0</td>\n",
       "    </tr>\n",
       "  </tbody>\n",
       "</table>\n",
       "</div>"
      ],
      "text/plain": [
       "   result  mean_10_home_goal  mean_10_home_possession_pct  \\\n",
       "0       0                1.0                         0.50   \n",
       "1       3                3.0                         0.66   \n",
       "2       0                0.0                         0.64   \n",
       "3       1                1.0                         0.44   \n",
       "4       3                3.0                         0.48   \n",
       "\n",
       "   mean_10_home_shot_on_goal  mean_10_home_shot  mean_10_home_corner  \\\n",
       "0                        5.0               17.0                  4.0   \n",
       "1                       10.0               29.0                  9.0   \n",
       "2                        2.0               26.0                 14.0   \n",
       "3                        5.0                9.0                  3.0   \n",
       "4                        7.0               18.0                  4.0   \n",
       "\n",
       "   mean_10_away_goal  mean_10_away_possession_pct  mean_10_away_shot_on_goal  \\\n",
       "0                2.0                         0.50                        6.0   \n",
       "1                0.0                         0.34                        2.0   \n",
       "2                1.0                         0.36                        3.0   \n",
       "3                1.0                         0.56                        1.0   \n",
       "4                0.0                         0.52                        3.0   \n",
       "\n",
       "   mean_10_away_shot  mean_10_away_corner  \n",
       "0               13.0                  6.0  \n",
       "1                8.0                  5.0  \n",
       "2                7.0                  2.0  \n",
       "3                6.0                  3.0  \n",
       "4               11.0                  5.0  "
      ]
     },
     "execution_count": 24,
     "metadata": {},
     "output_type": "execute_result"
    }
   ],
   "source": [
    "df_data = pd.read_csv(\"../dataset/analyzed_data.csv\")\n",
    "df_data.head()"
   ]
  },
  {
   "attachments": {},
   "cell_type": "markdown",
   "metadata": {},
   "source": [
    "Split train and test set by ratio 0.7 : 0.3"
   ]
  },
  {
   "cell_type": "code",
   "execution_count": 25,
   "metadata": {},
   "outputs": [
    {
     "name": "stdout",
     "output_type": "stream",
     "text": [
      "(2634, 11)\n",
      "(1130, 11)\n"
     ]
    }
   ],
   "source": [
    "train, test = train_test_split(df_data, test_size=0.3)\n",
    "print(train.shape)\n",
    "print(test.shape)"
   ]
  },
  {
   "attachments": {},
   "cell_type": "markdown",
   "metadata": {},
   "source": [
    "Train model"
   ]
  },
  {
   "cell_type": "code",
   "execution_count": 26,
   "metadata": {},
   "outputs": [
    {
     "name": "stdout",
     "output_type": "stream",
     "text": [
      "Average train score: 0.58\n"
     ]
    }
   ],
   "source": [
    "log_reg = LogisticRegression(max_iter=1000)\n",
    "x_train = train.drop('result', axis=1)\n",
    "y_train = train['result']\n",
    "log_reg.fit(x_train, y_train)\n",
    "train_score = log_reg.score(x_train, y_train)\n",
    "print(\"Average train score: %.2f\" % train_score)"
   ]
  },
  {
   "attachments": {},
   "cell_type": "markdown",
   "metadata": {},
   "source": [
    "Test model"
   ]
  },
  {
   "cell_type": "code",
   "execution_count": 27,
   "metadata": {},
   "outputs": [
    {
     "name": "stdout",
     "output_type": "stream",
     "text": [
      "Average test score: 0.57\n"
     ]
    }
   ],
   "source": [
    "x_test = test.drop('result', axis=1)\n",
    "y_test = test['result']\n",
    "test_score = log_reg.score(x_test, y_test)\n",
    "print(\"Average test score: %.2f\" % test_score)"
   ]
  },
  {
   "cell_type": "code",
   "execution_count": 28,
   "metadata": {},
   "outputs": [
    {
     "name": "stdout",
     "output_type": "stream",
     "text": [
      "              precision    recall  f1-score   support\n",
      "\n",
      "           0       0.54      0.66      0.60       360\n",
      "           1       0.43      0.02      0.04       277\n",
      "           3       0.59      0.81      0.68       493\n",
      "\n",
      "    accuracy                           0.57      1130\n",
      "   macro avg       0.52      0.50      0.44      1130\n",
      "weighted avg       0.53      0.57      0.50      1130\n",
      "\n"
     ]
    }
   ],
   "source": [
    "y_predicted = log_reg.predict(x_test)\n",
    "print(classification_report(y_test, y_predicted))"
   ]
  },
  {
   "attachments": {},
   "cell_type": "markdown",
   "metadata": {},
   "source": [
    "### Use model Random Forest with different between parameter"
   ]
  },
  {
   "cell_type": "code",
   "execution_count": 29,
   "metadata": {},
   "outputs": [
    {
     "name": "stdout",
     "output_type": "stream",
     "text": [
      "Average train score: 1.00\n",
      "Average test score: 0.55\n",
      "              precision    recall  f1-score   support\n",
      "\n",
      "           0       0.54      0.57      0.55       354\n",
      "           1       0.34      0.17      0.23       268\n",
      "           3       0.61      0.74      0.67       508\n",
      "\n",
      "    accuracy                           0.55      1130\n",
      "   macro avg       0.50      0.50      0.48      1130\n",
      "weighted avg       0.52      0.55      0.53      1130\n",
      "\n"
     ]
    },
    {
     "data": {
      "text/plain": [
       "array([[203,  45, 106],\n",
       "       [ 91,  46, 131],\n",
       "       [ 85,  46, 377]], dtype=int64)"
      ]
     },
     "execution_count": 29,
     "metadata": {},
     "output_type": "execute_result"
    }
   ],
   "source": [
    "from sklearn.ensemble import RandomForestClassifier\n",
    "from sklearn.model_selection import train_test_split\n",
    "from sklearn.metrics import confusion_matrix\n",
    "import pandas as pd\n",
    "\n",
    "ran_forest = RandomForestClassifier(n_estimators=1000)\n",
    "data=pd.read_csv(\"../dataset/diff_data.csv\")\n",
    "train,test=train_test_split(data,test_size=0.3)\n",
    "train,test=train_test_split(data,test_size=0.3)\n",
    "x_train=train.drop('result',axis=1)\n",
    "y_train=train['result']\n",
    "x_test=test.drop('result',axis=1)\n",
    "y_test=test['result']\n",
    "ran_forest.fit(x_train,y_train)\n",
    "y_predicted = ran_forest.predict(x_test)\n",
    "testScore = ran_forest.score(x_test, y_test)\n",
    "trainScore = ran_forest.score(x_train, y_train)\n",
    "print(\"Average train score: %.2f\" % trainScore)\n",
    "print(\"Average test score: %.2f\" % testScore)\n",
    "print(classification_report(y_test, y_predicted))\n",
    "confusion_matrix(y_test, y_predicted)"
   ]
  },
  {
   "attachments": {},
   "cell_type": "markdown",
   "metadata": {},
   "source": [
    "When we use random forest model we can predict draw match better\n",
    "\n",
    "Use model Random Forest for only mean of 10 match later"
   ]
  },
  {
   "cell_type": "code",
   "execution_count": 30,
   "metadata": {},
   "outputs": [
    {
     "name": "stdout",
     "output_type": "stream",
     "text": [
      "Average train score: 1.00\n",
      "Average test score: 0.55\n",
      "              precision    recall  f1-score   support\n",
      "\n",
      "           0       0.59      0.57      0.58       383\n",
      "           1       0.28      0.15      0.19       253\n",
      "           3       0.59      0.75      0.66       494\n",
      "\n",
      "    accuracy                           0.55      1130\n",
      "   macro avg       0.49      0.49      0.48      1130\n",
      "weighted avg       0.52      0.55      0.53      1130\n",
      "\n"
     ]
    },
    {
     "data": {
      "text/plain": [
       "array([[219,  49, 115],\n",
       "       [ 76,  37, 140],\n",
       "       [ 78,  47, 369]], dtype=int64)"
      ]
     },
     "execution_count": 30,
     "metadata": {},
     "output_type": "execute_result"
    }
   ],
   "source": [
    "from sklearn.ensemble import RandomForestClassifier\n",
    "from sklearn.model_selection import train_test_split\n",
    "from sklearn.metrics import confusion_matrix\n",
    "import pandas as pd\n",
    "\n",
    "ran_forest = RandomForestClassifier(n_estimators=1000)\n",
    "data=pd.read_csv(\"../dataset/analyzed_data.csv\")\n",
    "train,test=train_test_split(data,test_size=0.3)\n",
    "train,test=train_test_split(data,test_size=0.3)\n",
    "x_train=train.drop('result',axis=1)\n",
    "y_train=train['result']\n",
    "x_test=test.drop('result',axis=1)\n",
    "y_test=test['result']\n",
    "ran_forest.fit(x_train,y_train)\n",
    "y_predicted = ran_forest.predict(x_test)\n",
    "testScore = ran_forest.score(x_test, y_test)\n",
    "trainScore = ran_forest.score(x_train, y_train)\n",
    "print(\"Average train score: %.2f\" % trainScore)\n",
    "print(\"Average test score: %.2f\" % testScore)\n",
    "print(classification_report(y_test, y_predicted))\n",
    "confusion_matrix(y_test, y_predicted)"
   ]
  }
 ],
 "metadata": {
  "kernelspec": {
   "display_name": "ds",
   "language": "python",
   "name": "python3"
  },
  "language_info": {
   "codemirror_mode": {
    "name": "ipython",
    "version": 3
   },
   "file_extension": ".py",
   "mimetype": "text/x-python",
   "name": "python",
   "nbconvert_exporter": "python",
   "pygments_lexer": "ipython3",
   "version": "3.9.16"
  },
  "orig_nbformat": 4,
  "vscode": {
   "interpreter": {
    "hash": "a61f766857086d96bd0ed90e3e1db8caf9386a2be5c204ce69585e30a254afb0"
   }
  }
 },
 "nbformat": 4,
 "nbformat_minor": 2
}
