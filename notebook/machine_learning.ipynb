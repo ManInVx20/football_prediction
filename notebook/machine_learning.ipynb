{
 "cells": [
  {
   "attachments": {},
   "cell_type": "markdown",
   "metadata": {},
   "source": [
    "### Machine Learing by using model Logistic Regression"
   ]
  },
  {
   "attachments": {},
   "cell_type": "markdown",
   "metadata": {},
   "source": [
    "Import packages"
   ]
  },
  {
   "cell_type": "code",
   "execution_count": 1,
   "metadata": {},
   "outputs": [],
   "source": [
    "import pandas as pd\n",
    "from sklearn.linear_model import LogisticRegression\n",
    "from sklearn.model_selection import train_test_split\n",
    "from sklearn.metrics import classification_report"
   ]
  },
  {
   "attachments": {},
   "cell_type": "markdown",
   "metadata": {},
   "source": [
    "Load analyzed data"
   ]
  },
  {
   "cell_type": "code",
   "execution_count": 2,
   "metadata": {},
   "outputs": [
    {
     "data": {
      "text/html": [
       "<div>\n",
       "<style scoped>\n",
       "    .dataframe tbody tr th:only-of-type {\n",
       "        vertical-align: middle;\n",
       "    }\n",
       "\n",
       "    .dataframe tbody tr th {\n",
       "        vertical-align: top;\n",
       "    }\n",
       "\n",
       "    .dataframe thead th {\n",
       "        text-align: right;\n",
       "    }\n",
       "</style>\n",
       "<table border=\"1\" class=\"dataframe\">\n",
       "  <thead>\n",
       "    <tr style=\"text-align: right;\">\n",
       "      <th></th>\n",
       "      <th>result</th>\n",
       "      <th>mean_10_home_goal</th>\n",
       "      <th>mean_10_home_possession_pct</th>\n",
       "      <th>mean_10_home_shot_on_goal</th>\n",
       "      <th>mean_10_home_shot</th>\n",
       "      <th>mean_10_home_corner</th>\n",
       "      <th>mean_10_away_goal</th>\n",
       "      <th>mean_10_away_possession_pct</th>\n",
       "      <th>mean_10_away_shot_on_goal</th>\n",
       "      <th>mean_10_away_shot</th>\n",
       "      <th>mean_10_away_corner</th>\n",
       "    </tr>\n",
       "  </thead>\n",
       "  <tbody>\n",
       "    <tr>\n",
       "      <th>0</th>\n",
       "      <td>3</td>\n",
       "      <td>2.0</td>\n",
       "      <td>0.50</td>\n",
       "      <td>5.0</td>\n",
       "      <td>16.0</td>\n",
       "      <td>11.0</td>\n",
       "      <td>1.0</td>\n",
       "      <td>0.50</td>\n",
       "      <td>2.0</td>\n",
       "      <td>8.0</td>\n",
       "      <td>3.0</td>\n",
       "    </tr>\n",
       "    <tr>\n",
       "      <th>1</th>\n",
       "      <td>3</td>\n",
       "      <td>3.0</td>\n",
       "      <td>0.68</td>\n",
       "      <td>11.0</td>\n",
       "      <td>34.0</td>\n",
       "      <td>12.0</td>\n",
       "      <td>1.0</td>\n",
       "      <td>0.32</td>\n",
       "      <td>3.0</td>\n",
       "      <td>7.0</td>\n",
       "      <td>3.0</td>\n",
       "    </tr>\n",
       "    <tr>\n",
       "      <th>2</th>\n",
       "      <td>1</td>\n",
       "      <td>1.0</td>\n",
       "      <td>0.44</td>\n",
       "      <td>5.0</td>\n",
       "      <td>9.0</td>\n",
       "      <td>3.0</td>\n",
       "      <td>1.0</td>\n",
       "      <td>0.56</td>\n",
       "      <td>1.0</td>\n",
       "      <td>6.0</td>\n",
       "      <td>3.0</td>\n",
       "    </tr>\n",
       "    <tr>\n",
       "      <th>3</th>\n",
       "      <td>1</td>\n",
       "      <td>2.0</td>\n",
       "      <td>0.69</td>\n",
       "      <td>6.0</td>\n",
       "      <td>25.0</td>\n",
       "      <td>3.0</td>\n",
       "      <td>2.0</td>\n",
       "      <td>0.31</td>\n",
       "      <td>5.0</td>\n",
       "      <td>9.0</td>\n",
       "      <td>2.0</td>\n",
       "    </tr>\n",
       "    <tr>\n",
       "      <th>4</th>\n",
       "      <td>3</td>\n",
       "      <td>3.0</td>\n",
       "      <td>0.62</td>\n",
       "      <td>6.0</td>\n",
       "      <td>20.0</td>\n",
       "      <td>7.0</td>\n",
       "      <td>0.0</td>\n",
       "      <td>0.38</td>\n",
       "      <td>1.0</td>\n",
       "      <td>5.0</td>\n",
       "      <td>2.0</td>\n",
       "    </tr>\n",
       "  </tbody>\n",
       "</table>\n",
       "</div>"
      ],
      "text/plain": [
       "   result  mean_10_home_goal  mean_10_home_possession_pct  \\\n",
       "0       3                2.0                         0.50   \n",
       "1       3                3.0                         0.68   \n",
       "2       1                1.0                         0.44   \n",
       "3       1                2.0                         0.69   \n",
       "4       3                3.0                         0.62   \n",
       "\n",
       "   mean_10_home_shot_on_goal  mean_10_home_shot  mean_10_home_corner  \\\n",
       "0                        5.0               16.0                 11.0   \n",
       "1                       11.0               34.0                 12.0   \n",
       "2                        5.0                9.0                  3.0   \n",
       "3                        6.0               25.0                  3.0   \n",
       "4                        6.0               20.0                  7.0   \n",
       "\n",
       "   mean_10_away_goal  mean_10_away_possession_pct  mean_10_away_shot_on_goal  \\\n",
       "0                1.0                         0.50                        2.0   \n",
       "1                1.0                         0.32                        3.0   \n",
       "2                1.0                         0.56                        1.0   \n",
       "3                2.0                         0.31                        5.0   \n",
       "4                0.0                         0.38                        1.0   \n",
       "\n",
       "   mean_10_away_shot  mean_10_away_corner  \n",
       "0                8.0                  3.0  \n",
       "1                7.0                  3.0  \n",
       "2                6.0                  3.0  \n",
       "3                9.0                  2.0  \n",
       "4                5.0                  2.0  "
      ]
     },
     "execution_count": 2,
     "metadata": {},
     "output_type": "execute_result"
    }
   ],
   "source": [
    "df_data = pd.read_csv(\"../dataset/analyzed_data.csv\")\n",
    "df_data.head()"
   ]
  },
  {
   "attachments": {},
   "cell_type": "markdown",
   "metadata": {},
   "source": [
    "Split train and test set by ratio 0.7 : 0.3"
   ]
  },
  {
   "cell_type": "code",
   "execution_count": 3,
   "metadata": {},
   "outputs": [
    {
     "name": "stdout",
     "output_type": "stream",
     "text": [
      "(2547, 11)\n",
      "(1092, 11)\n"
     ]
    }
   ],
   "source": [
    "train, test = train_test_split(df_data, test_size=0.3)\n",
    "print(train.shape)\n",
    "print(test.shape)"
   ]
  },
  {
   "attachments": {},
   "cell_type": "markdown",
   "metadata": {},
   "source": [
    "Train model"
   ]
  },
  {
   "cell_type": "code",
   "execution_count": 4,
   "metadata": {},
   "outputs": [
    {
     "name": "stdout",
     "output_type": "stream",
     "text": [
      "Average train score: 0.58\n"
     ]
    }
   ],
   "source": [
    "log_reg = LogisticRegression(max_iter=1000)\n",
    "x_train = train.drop('result', axis=1)\n",
    "y_train = train['result']\n",
    "log_reg.fit(x_train, y_train)\n",
    "train_score = log_reg.score(x_train, y_train)\n",
    "print(\"Average train score: %.2f\" % train_score)"
   ]
  },
  {
   "attachments": {},
   "cell_type": "markdown",
   "metadata": {},
   "source": [
    "Test model"
   ]
  },
  {
   "cell_type": "code",
   "execution_count": 5,
   "metadata": {},
   "outputs": [
    {
     "name": "stdout",
     "output_type": "stream",
     "text": [
      "Average test score: 0.57\n"
     ]
    }
   ],
   "source": [
    "x_test = test.drop('result', axis=1)\n",
    "y_test = test['result']\n",
    "test_score = log_reg.score(x_test, y_test)\n",
    "print(\"Average test score: %.2f\" % test_score)"
   ]
  },
  {
   "cell_type": "code",
   "execution_count": 6,
   "metadata": {},
   "outputs": [
    {
     "name": "stdout",
     "output_type": "stream",
     "text": [
      "              precision    recall  f1-score   support\n",
      "\n",
      "           0       0.57      0.62      0.60       365\n",
      "           1       0.38      0.04      0.07       253\n",
      "           3       0.57      0.81      0.67       474\n",
      "\n",
      "    accuracy                           0.57      1092\n",
      "   macro avg       0.51      0.49      0.45      1092\n",
      "weighted avg       0.53      0.57      0.51      1092\n",
      "\n"
     ]
    }
   ],
   "source": [
    "y_predicted = log_reg.predict(x_test)\n",
    "print(classification_report(y_test, y_predicted))"
   ]
  }
 ],
 "metadata": {
  "kernelspec": {
   "display_name": "venv",
   "language": "python",
   "name": "python3"
  },
  "language_info": {
   "codemirror_mode": {
    "name": "ipython",
    "version": 3
   },
   "file_extension": ".py",
   "mimetype": "text/x-python",
   "name": "python",
   "nbconvert_exporter": "python",
   "pygments_lexer": "ipython3",
   "version": "3.10.6"
  },
  "orig_nbformat": 4,
  "vscode": {
   "interpreter": {
    "hash": "2ebe7aa5e534c436cc2dbf0909e797b08403c5c19601fcdcbe67a2c5d9abb1eb"
   }
  }
 },
 "nbformat": 4,
 "nbformat_minor": 2
}
